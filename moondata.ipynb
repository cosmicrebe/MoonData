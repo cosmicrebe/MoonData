{
 "cells": [
  {
   "cell_type": "code",
   "execution_count": 3,
   "metadata": {
    "collapsed": true
   },
   "outputs": [],
   "source": [
    "##Goal##\n",
    "#To create a database for Joe that has the following for a specific date\n",
    "#Is the Moon up (binary) during range 8:00pm to 4:00am? -- easy for single date/time, not sure how to push this through for example\n",
    "#a year's worth \n",
    "#What is it's phase -- easy for single dates, not sure how to push this through for table of dates\n",
    "#What is it's brightness (distance and amount illuminated) -- Can get distance easily (included in emphemeris)\n",
    "#but NOT percent illuminated\n",
    "\n",
    "##Idea is to have an example dataset with 1000 samples over one year"
   ]
  },
  {
   "cell_type": "code",
   "execution_count": 48,
   "metadata": {
    "collapsed": true
   },
   "outputs": [],
   "source": [
    "\n",
    "import os\n",
    "os.environ['PATH'] = os.environ['PATH'] + ':/usr/texbin'\n",
    "from __future__ import unicode_literals\n",
    "import numpy as np\n",
    "import scipy as sp\n",
    "#from scipy import constants\n",
    "import matplotlib as mp\n",
    "import matplotlib.pyplot as plt\n",
    "import pandas as pd\n",
    "\n",
    "\n",
    "#import asciitable\n",
    "from astropy.io import ascii\n",
    "from astropy import units as u\n",
    "from astropy.coordinates import SkyCoord\n",
    "\n",
    "from matplotlib.colors import LogNorm\n",
    "import math\n",
    "import glob\n",
    "mp.rcParams['text.usetex']=False\n",
    "#mp.rcParams['text.latex.unicode']=True\n",
    "#rc('text', usetex=True)\n",
    "#plt.rc('text', usetex=True)\n",
    "#plt.rc('font', family='serif')\n",
    "\n",
    "from matplotlib.path import Path\n",
    "import matplotlib.patches as patches\n",
    "\n",
    "import asciitable\n",
    "\n",
    "\n",
    "%matplotlib inline"
   ]
  },
  {
   "cell_type": "code",
   "execution_count": null,
   "metadata": {
    "collapsed": true
   },
   "outputs": [],
   "source": [
    "#Geocentric Celestial Reference System (GCRS).\n",
    "\n",
    "#GCRS is distinct form ICRS mainly in that it is relative to the Earth’s center-of-mass rather than the solar system Barycenter. \n",
    "#That means this frame includes the effects of aberration (unlike ICRS). \n",
    "#For more background on the GCRS, see the references provided in the See Also section of the documentation. \n",
    "#(Of particular note is Section 1.2 of USNO Circular 179)\n",
    "\n",
    "#This frame also includes frames that are defined relative to the Earth, but that are offset (in both position and velocity) from the Earth."
   ]
  },
  {
   "cell_type": "code",
   "execution_count": 57,
   "metadata": {},
   "outputs": [
    {
     "data": {
      "text/plain": [
       "<SkyCoord (GCRS: obstime=1985-12-20 23:22:00.000, obsgeoloc=(-5201816.98415646, -1495618.7977058, -3362953.77387511) m, obsgeovel=( 109.06225548, -379.32252107,  0.) m / s): (ra, dec, distance) in (deg, deg, km)\n",
       "    ( 19.19348204,  6.78775724,  408459.24467836)>"
      ]
     },
     "execution_count": 57,
     "metadata": {},
     "output_type": "execute_result"
    }
   ],
   "source": [
    "#prints out emphemeris data for the Moon obs from Perth\n",
    "from astropy.time import Time\n",
    "from astropy.coordinates import solar_system_ephemeris, EarthLocation\n",
    "from astropy.coordinates import get_body_barycentric, get_body, get_moon\n",
    "t = Time(\"1985-12-20 23:22\")\n",
    "#utcoffset = 8*u.hour  # Eastern Daylight Time\n",
    "#t = t+utcoffset\n",
    "Perth = EarthLocation(lat=-31.9505*u.deg, lon=115.8605*u.deg, height=39*u.m)\n",
    "#loc = EarthLocation.of_site('names') \n",
    "with solar_system_ephemeris.set('builtin'):\n",
    "     moon = get_body('moon', t, Perth) \n",
    "        \n",
    "moon"
   ]
  },
  {
   "cell_type": "code",
   "execution_count": 95,
   "metadata": {},
   "outputs": [
    {
     "name": "stdout",
     "output_type": "stream",
     "text": [
      "<SkyCoord (GCRS: obstime=2018-05-10 23:55:00.000, obsgeoloc=( 5177308.56844941, -1574107.30425019, -3364951.08284991) m, obsgeovel=( 114.78572831,  377.535339,  0.) m / s): (ra, dec, distance) in (deg, deg, km)\n",
      "    ( 355.04472719, -5.59644018,  384370.02396624)>\n"
     ]
    },
    {
     "data": {
      "text/plain": [
       "\"Moon's Altitude = 6.1e+01 deg\""
      ]
     },
     "execution_count": 95,
     "metadata": {},
     "output_type": "execute_result"
    }
   ],
   "source": [
    "##Works and displays Moon's altitude at given date time (adjust for UTC difference)\n",
    "\n",
    "import numpy as np\n",
    "from astropy import units as u\n",
    "from astropy.time import Time\n",
    "from astropy.coordinates import SkyCoord, EarthLocation, AltAz\n",
    "#moon = SkyCoord.from_name('Moon')\n",
    "\n",
    "Perth = EarthLocation(lat=-31.9505*u.deg, lon=115.8605*u.deg, height=39*u.m)\n",
    "utcoffset = 8*u.hour  # Eastern Daylight Time\n",
    "#time = Time('1985-20-12 23:00:00') + utcoffset\n",
    "t = Time(\"2018-5-10 23:55\")#+ utcoffset\n",
    "with solar_system_ephemeris.set('builtin'):\n",
    "     moon = get_body('moon', t, loc)\n",
    "print (moon)\n",
    "\n",
    "moonaltaz = moon.transform_to(AltAz(obstime=t,location=Perth))  \n",
    "\"Moon's Altitude = {0.alt:.2}\".format(moonaltaz)  "
   ]
  },
  {
   "cell_type": "code",
   "execution_count": 98,
   "metadata": {},
   "outputs": [
    {
     "data": {
      "image/png": "[encoded data removed]",
      "text/plain": [
       "<matplotlib.figure.Figure at 0x11a5259b0>"
      ]
     },
     "metadata": {},
     "output_type": "display_data"
    }
   ],
   "source": [
    "#Similar to above but plots when Moon is high in the Sky\n",
    "Perth = EarthLocation(lat=-31.9505*u.deg, lon=115.8605*u.deg, height=39*u.m)\n",
    "utcoffset = 8*u.hour  # Eastern Daylight Time\n",
    "#time = Time('1985-20-12 23:00:00') + utcoffset\n",
    "t = Time(\"2012-5-10 23:55\")#+ utcoffset\n",
    "\n",
    "with solar_system_ephemeris.set('builtin'):\n",
    "     moon = get_body('moon', t, loc)\n",
    "midnight = Time('2012-5-10 00:00:00') #+ utcoffset\n",
    "delta_midnight = np.linspace(-4, 7, 100)*u.hour\n",
    "moonaltaz = moon.transform_to(AltAz(obstime=midnight+delta_midnight, location=Perth))  \n",
    "\n",
    "plt.plot(delta_midnight, moonaltaz.secz)  \n",
    "plt.xlim(-4, 9)  \n",
    "plt.ylim(1, 4)  \n",
    "plt.xlabel('Hours from EDT Midnight')  \n",
    "plt.ylabel('Airmass [Sec(z)]')\n",
    "plt.savefig('moon.pdf')"
   ]
  },
  {
   "cell_type": "code",
   "execution_count": 52,
   "metadata": {},
   "outputs": [
    {
     "name": "stdout",
     "output_type": "stream",
     "text": [
      "8\n"
     ]
    }
   ],
   "source": [
    "#Basic moon phase for specific date\n",
    "import datetime\n",
    "from astral import Astral\n",
    "a = Astral()\n",
    "moon_phase = a.moon_phase(date=datetime.datetime(1985, 12, 20))#date=datetime.datetime.now()\n",
    "print(moon_phase)"
   ]
  },
  {
   "cell_type": "code",
   "execution_count": null,
   "metadata": {
    "collapsed": true
   },
   "outputs": [],
   "source": []
  }
 ],
 "metadata": {
  "kernelspec": {
   "display_name": "Python 3",
   "language": "python",
   "name": "python3"
  },
  "language_info": {
   "codemirror_mode": {
    "name": "ipython",
    "version": 3
   },
   "file_extension": ".py",
   "mimetype": "text/x-python",
   "name": "python",
   "nbconvert_exporter": "python",
   "pygments_lexer": "ipython3",
   "version": "3.6.1"
  }
 },
 "nbformat": 4,
 "nbformat_minor": 2
}
